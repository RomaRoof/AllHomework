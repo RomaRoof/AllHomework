{
  "nbformat": 4,
  "nbformat_minor": 0,
  "metadata": {
    "colab": {
      "provenance": [],
      "include_colab_link": true
    },
    "kernelspec": {
      "name": "python3",
      "display_name": "Python 3"
    },
    "language_info": {
      "name": "python"
    }
  },
  "cells": [
    {
      "cell_type": "markdown",
      "metadata": {
        "id": "view-in-github",
        "colab_type": "text"
      },
      "source": [
        "<a href=\"https://colab.research.google.com/github/RomaRoof/AllHomework/blob/dev/%D0%92%D1%8B%D0%BF%D0%BE%D0%BB%D0%BD%D0%B5%D0%BD%D0%BE_%224_3_%D0%94%D0%BE%D0%BC%D0%B0%D1%88%D0%BD%D1%8F%D1%8F_%D1%80%D0%B0%D0%B1%D0%BE%D1%82%D0%B0%22.ipynb\" target=\"_parent\"><img src=\"https://colab.research.google.com/assets/colab-badge.svg\" alt=\"Open In Colab\"/></a>"
      ]
    },
    {
      "cell_type": "markdown",
      "source": [
        "**Навигация по уроку**\n",
        "\n",
        "1. [ Функции. Классы и объекты. Програмные модули](https://colab.research.google.com/drive/1LtSAdLzWIP-xTADXIktKF9yxsh0ioEqN#scrollTo=O0dFTIuYGKI4)\n",
        "2. [Практика](https://colab.research.google.com/drive/1GblqLwJKMaNBV4cIyrbQqt7Rsf-7Bbx7)\n",
        "3. Домашняя работа"
      ],
      "metadata": {
        "id": "8LIWrmOPjBO6"
      }
    },
    {
      "cell_type": "markdown",
      "source": [
        "## Задача 1. Случайный номерной знак"
      ],
      "metadata": {
        "id": "Bh5tu_5BH-rG"
      }
    },
    {
      "cell_type": "markdown",
      "source": [
        "**Условие.** Представьте, что в вашем регионе устаревшим является формат номерных автомобильных знаков из трех букв, следом за которыми идут три цифры. Когда все номера такого шаблона закончились, было решено обновить формат, поставив в начало четыре цифры, а за ними три буквы.\n",
        "Напишите функцию, которая будет генерировать случайный номерной знак. При этом номера в старом и новом форматах должны создаваться примерно с одинаковой вероятностью. В основной программе нужно сгенерировать и вывести на экран случайный номерной знак."
      ],
      "metadata": {
        "id": "pLn92q_iLp_k"
      }
    },
    {
      "cell_type": "code",
      "execution_count": null,
      "metadata": {
        "id": "El4o9_QWeq78",
        "colab": {
          "base_uri": "https://localhost:8080/"
        },
        "outputId": "6666ab7d-2441-4449-dd25-c7d63511c312"
      },
      "outputs": [
        {
          "output_type": "stream",
          "name": "stdout",
          "text": [
            "Госномер а/м:  399OGT\n",
            "вар2 - Госномер а/м:  839WSS\n"
          ]
        }
      ],
      "source": [
        "#Генерируем длинну номерного знака\n",
        "import random\n",
        "\n",
        "MIN_ASCII = 65\n",
        "MAX_ASCII = 90\n",
        "NUM_MIN_ASCII = 48\n",
        "NUM_MAX_ASCII = 57\n",
        "\n",
        "def randomPlateNumber():\n",
        "  num_chars = \"\"\n",
        "  latter_chars = \"\"\n",
        "  result = \"\"\n",
        "  #50/50 выпадение того или иного формата номера\n",
        "  if random.random() < 0.5:\n",
        "    for _ in range(3):\n",
        "      letter_chars_rand = chr(randint(MIN_ASCII, MAX_ASCII))\n",
        "      latter_chars = latter_chars + letter_chars_rand\n",
        "    for num in range(4):\n",
        "      num_chars_rand = chr(randint(NUM_MIN_ASCII, NUM_MAX_ASCII))\n",
        "      num_chars = num_chars  + num_chars_rand\n",
        "    result = latter_chars + num_chars\n",
        "    return result\n",
        "  else:\n",
        "    for _ in range(3):\n",
        "      letter_chars_rand = chr(randint(MIN_ASCII, MAX_ASCII))\n",
        "      latter_chars = latter_chars + letter_chars_rand\n",
        "    for num in range(3):\n",
        "      num_chars_rand = chr(randint(NUM_MIN_ASCII, NUM_MAX_ASCII))\n",
        "      num_chars = num_chars  + num_chars_rand\n",
        "    result = num_chars + latter_chars\n",
        "    return result\n",
        "\n",
        "#Упрощенный вариант функции\n",
        "def generate_number_plate():\n",
        "    if random.random() < 0.5:  # Вероятность 50/50\n",
        "        return ''.join(random.choice(chr(randint(MIN_ASCII, MAX_ASCII))) for _ in range(3)) + ''.join(random.choice(chr(randint(NUM_MIN_ASCII, NUM_MAX_ASCII))) for _ in range(4))\n",
        "    else:\n",
        "        return ''.join(random.choice(chr(randint(NUM_MIN_ASCII, NUM_MAX_ASCII))) for _ in range(3)) + ''.join(random.choice(chr(randint(MIN_ASCII, MAX_ASCII))) for _ in range(3))\n",
        "\n",
        "def main():\n",
        "  print('Госномер а/м: ', randomPlateNumber())\n",
        "  print('вар2 - Госномер а/м: ', generate_number_plate())\n",
        "\n",
        "if __name__ == \"__main__\":\n",
        "    main()"
      ]
    },
    {
      "cell_type": "markdown",
      "source": [
        "## Задача 2. Шестнадцатеричные и десятичные числа"
      ],
      "metadata": {
        "id": "I4wpSF3IMHdX"
      }
    },
    {
      "cell_type": "markdown",
      "source": [
        "**Условие.** Напишите две функции с  именами hex2int и  int2hex для конвертации\n",
        "значений из шестнадцатеричной системы счисления (0, 1, 2, 3, 4, 5, 6, 7, 8, 9, A, B, C, D, E и F) в десятичную (по основанию 10) и обратно. Функция hex2int должна принимать на вход строку с единственным символом в  шестнадцатеричной системе и  преобразовывать его в  число от нуля до 15 в десятичной системе, тогда как функция int2hex будет выполнять обратное действие – принимать десятичное число из диапазона от 0 до 15 и возвращать шестнадцатеричный эквивалент. Обе функции должны принимать единственный параметр со входным значением и возвращать преобразованное число. Удостоверьтесь, что функция hex2int корректно обрабатывает буквы в верхнем и нижнем регистрах. Если введенное пользователем значение выходит за допустимые границы, вы должны вывести сообщение об ошибке."
      ],
      "metadata": {
        "id": "mYg_KnVwMStB"
      }
    },
    {
      "cell_type": "code",
      "source": [
        "use_calc_system = input('Выберите систему исчисления(HEX или DEC) : ').upper()\n",
        "user_input = input('Введите число! От 0 до 15 для Dec\\nИли от 0 до 9 а так же от A до F для Hex: ').upper()\n",
        "dict_calc_system = {0: 0, 1: 1, 2: 2, 3: 3, 4: 4, 5: 5, 6: 6, 7: 7, 8: 8, 9: 9, \\\n",
        "                    10: \"A\", 11: \"B\", 12: \"C\", 13: \"D\", 14: \"E\", 15: \"F\"}\n",
        "\n",
        "\n",
        "def int2hex(dec_num):\n",
        "    if dec_num in dict_calc_system:\n",
        "        return dict_calc_system[dec_num]\n",
        "    else:\n",
        "        return \"Значение выходит за допустимые границы\"\n",
        "\n",
        "\n",
        "def hex2int(hex_num):\n",
        "    for key, value in dict_calc_system.items():\n",
        "        if value == hex_num.upper():\n",
        "            return key\n",
        "    return \"Введенный символ не является допустимым.\"\n",
        "\n",
        "\n",
        "# тут можно дополнить проверку на ввод, но ТЗ этого не просит, по этому все что != HEX будет ==DEC\n",
        "if use_calc_system == 'HEX':\n",
        "    print('Decimal: ', hex2int(user_input))\n",
        "else:\n",
        "    print('Hexadecimal: ', int2hex(int(user_input)))\n",
        "\n",
        "#Упрощенный вариант кода с используя встроенные функции Python (запрос ввода тотже что и вначале)\n",
        "#def int2hex(dec_num):\n",
        "#    return hex(dec_num)\n",
        "\n",
        "#def hex2int(hex_num):\n",
        "#    return int(hex_num, 16)\n",
        "\n",
        "#if use_calc_system == 'HEX':\n",
        "#    print('Decimal:', hex2int(user_input))\n",
        "#else:\n",
        "#   print('Hexadecimal:', int2hex(int(user_input)))"
      ],
      "metadata": {
        "id": "j4R38AofMTBX",
        "colab": {
          "base_uri": "https://localhost:8080/"
        },
        "outputId": "291673c6-1790-4bf9-80c8-f4c519be5ac5"
      },
      "execution_count": null,
      "outputs": [
        {
          "output_type": "stream",
          "name": "stdout",
          "text": [
            "Выберите систему исчисления(HEX или DEC) : dec\n",
            "Введите число! От 0 до 15 для Dec\n",
            " Или от 0 до 9 а так же от A до F для Hex: 9\n",
            "Hexadecimal:  9\n"
          ]
        }
      ]
    },
    {
      "cell_type": "markdown",
      "source": [
        "## Задача 3. Беспилотный автомобиль"
      ],
      "metadata": {
        "id": "RIOKyPjlMZA_"
      }
    },
    {
      "cell_type": "markdown",
      "source": [
        "**Условие.** Это творческая задача. Представьте, что вы проектируете беспилотный автомобиль. Вам необходимо продумать, какими свойствами он обладает и какие действия совершает. Создайте класс беспилотный автомобиль и сохраните его в виде программного модуля. Импортируете класс и инициализируйте новый объект.  "
      ],
      "metadata": {
        "id": "OlVQTKYrMZBA"
      }
    },
    {
      "cell_type": "code",
      "source": [
        "%%writefile driverlesS_Car.py\n",
        "#Напишите свое решение.\n",
        "class Driverless_Car:\n",
        "  Name_Class = \"Беспилотные автомобили\"\n",
        "  def __init__(self, model, manufacturer, year_of_issue, driverless, type_engine,\\\n",
        "               acceleration_to_100, body_material, wheels_base): # ...и еще множество других характеристик можно ключить\n",
        "    self.model = model\n",
        "    self.manufacturer = manufacturer\n",
        "    self.year_of_issue = year_of_issue\n",
        "    self.driverless = driverless\n",
        "    self.type_engine = type_engine\n",
        "    self.acceleration_to_100 = acceleration_to_100\n",
        "    self.body_material = body_material\n",
        "    self.wheels_base = wheels_base\n",
        "\n",
        "  def drive_forward(self):\n",
        "    print(\"Едет в перед\")\n",
        "  def drive_reverse(self):\n",
        "    print(\"Едет задним ходом\")\n",
        "  def driverless_action(self):\n",
        "    if self.driverless == \"yes\":\n",
        "      print(\"Подключен\")\n",
        "    else:\n",
        "      print(\"Не подключен\")\n",
        "\n",
        "  def main():\n",
        "    driverless_car = Driverless_Car(\"Fusla\", \"RomanEngineering\", 2024, \"yes\", \"Hibride\",\\\n",
        "                                    5.4, \"Titanium\", 2700)\n",
        "    print(f\"Наименование класса: {driverless_car.Name_Class}\")\n",
        "    print(\"Представляем опытный образец городского беспилотника!\")\n",
        "    print(f\"Модель: {driverless_car.model}\")\n",
        "    print(f\"Тип двигателя: {driverless_car.type_engine}\")\n",
        "    print(f\"Разгон до 100км/ч: {driverless_car.acceleration_to_100} сек.\")\n",
        "    print(f\"Кузов выполнени из: {driverless_car.body_material}\")\n",
        "\n",
        "if __name__ == \"__main__\":\n",
        "    main()"
      ],
      "metadata": {
        "id": "U2JxR4KOMZBA",
        "colab": {
          "base_uri": "https://localhost:8080/"
        },
        "outputId": "2c0dfdf3-34a7-4d87-d254-e8c7ed1fbbe1"
      },
      "execution_count": null,
      "outputs": [
        {
          "output_type": "stream",
          "name": "stdout",
          "text": [
            "Writing driverlesS_Car.py\n"
          ]
        }
      ]
    },
    {
      "cell_type": "code",
      "source": [
        "import driverlesS_Car\n",
        "\n",
        "driverless_car_v2 = driverlesS_Car.Driverless_Car(\"Musla\", \"RomanEngineering\", 2024, \"yes\", \"Hibride\",\\\n",
        "                                    5.0, \"Chrome-Titanium\", 2800)\n",
        "print(f\"Наименование класса: {driverless_car_v2.Name_Class}\")\n",
        "print(\"Представляем опытный образец городского беспилотника!\")\n",
        "print(f\"Модель: {driverless_car_v2.model}\")\n",
        "print(f\"Тип двигателя: {driverless_car_v2.type_engine}\")\n",
        "print(f\"Разгон до 100км/ч: {driverless_car_v2.acceleration_to_100} сек.\")\n",
        "print(f\"Кузов выполнени из: {driverless_car_v2.body_material}\")"
      ],
      "metadata": {
        "colab": {
          "base_uri": "https://localhost:8080/"
        },
        "id": "lQ6aNgibwjeO",
        "outputId": "212dcbb1-71fb-433f-ae86-6e97f35dc7f3"
      },
      "execution_count": null,
      "outputs": [
        {
          "output_type": "stream",
          "name": "stdout",
          "text": [
            "Наименование класса: Беспилотные автомобили\n",
            "Представляем опытный образец городского беспилотника!\n",
            "Модель: Musla\n",
            "Тип двигателя: Hibride\n",
            "Разгон до 100км/ч: 5.0 сек.\n",
            "Кузов выполнени из: Chrome-Titanium\n"
          ]
        }
      ]
    }
  ]
}